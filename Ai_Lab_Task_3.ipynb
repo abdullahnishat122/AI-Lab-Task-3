{
  "nbformat": 4,
  "nbformat_minor": 0,
  "metadata": {
    "colab": {
      "name": "Ai Lab Task 3.ipynb",
      "provenance": [],
      "collapsed_sections": [],
      "authorship_tag": "ABX9TyMdHXf3EuYKZpUUEXVynJEm",
      "include_colab_link": true
    },
    "kernelspec": {
      "name": "python3",
      "display_name": "Python 3"
    }
  },
  "cells": [
    {
      "cell_type": "markdown",
      "metadata": {
        "id": "view-in-github",
        "colab_type": "text"
      },
      "source": [
        "<a href=\"https://colab.research.google.com/github/abdullahnishat122/AI-Lab-Task-3/blob/main/Ai_Lab_Task_3.ipynb\" target=\"_parent\"><img src=\"https://colab.research.google.com/assets/colab-badge.svg\" alt=\"Open In Colab\"/></a>"
      ]
    },
    {
      "cell_type": "code",
      "metadata": {
        "id": "LyNe64xvCXeC"
      },
      "source": [
        "course_name = []\r\n",
        "course_code = []"
      ],
      "execution_count": null,
      "outputs": []
    },
    {
      "cell_type": "code",
      "metadata": {
        "colab": {
          "base_uri": "https://localhost:8080/"
        },
        "id": "GaOt-qiLCfNS",
        "outputId": "6c52fa7e-b5ff-4fd0-e3e8-ebd7a6882b9f"
      },
      "source": [
        "def navBar():\r\n",
        "  print(\"     This your dashboard for keep tracking of your semister course\")\r\n",
        "  print(\"|----------------------------------------------------------------------|\")\r\n",
        "  print(\"|-------------------------- Menu --------------------------------------|\")\r\n",
        "  print(\"|----------------------------------------------------------------------|\")\r\n",
        "  print(\"       Type 1 and press Enter for show your registerd course\")\r\n",
        "  print(\"              Type 2 and press Enter for Add course\")\r\n",
        "  print('             Type 3 and press Enter for remove course')\r\n",
        "\r\n",
        "navBar()\r\n",
        "show_your_registerd_course()"
      ],
      "execution_count": null,
      "outputs": [
        {
          "output_type": "stream",
          "text": [
            "     This your dashboard for keep tracking of your semister course\n",
            "|----------------------------------------------------------------------|\n",
            "|-------------------------- Menu --------------------------------------|\n",
            "|----------------------------------------------------------------------|\n",
            "       Type 1 and press Enter for show your registerd course\n",
            "              Type 2 and press Enter for Add course\n",
            "             Type 3 and press Enter for remove course\n",
            "\n",
            "\n",
            "ID ---  Course Name --- Course Code\n",
            "1 --- Simulation --- CSE414\n"
          ],
          "name": "stdout"
        }
      ]
    },
    {
      "cell_type": "code",
      "metadata": {
        "id": "JwoMvfJRDQ1I"
      },
      "source": [
        "def show_your_registerd_course():\r\n",
        "  print()\r\n",
        "  if len(course_code) == 0:\r\n",
        "    print(\"No course in your list\")\r\n",
        "  else:\r\n",
        "    print(\"\\nID ---  Course Name --- Course Code\")\r\n",
        "    for id, course in enumerate(course_name):\r\n",
        "      print(f\"{id+1} --- {course} --- {course_code[id]}\")"
      ],
      "execution_count": null,
      "outputs": []
    },
    {
      "cell_type": "code",
      "metadata": {
        "id": "Un8-L_tpDUrK"
      },
      "source": [
        "def add_course(code, name):\r\n",
        "  course_code.append(code)\r\n",
        "  course_name.append(name)\r\n",
        "  show_your_registerd_course()"
      ],
      "execution_count": null,
      "outputs": []
    },
    {
      "cell_type": "code",
      "metadata": {
        "id": "8WkBXGQwDZ8p"
      },
      "source": [
        "def remove_course(index):\r\n",
        "  course_code.pop(index)\r\n",
        "  course_name.pop(index)\r\n",
        "  show_your_registerd_course()"
      ],
      "execution_count": null,
      "outputs": []
    },
    {
      "cell_type": "code",
      "metadata": {
        "colab": {
          "base_uri": "https://localhost:8080/"
        },
        "id": "rNP1TYkHDkle",
        "outputId": "406aac89-a4a7-4e53-a7ff-a0534706a1e9"
      },
      "source": [
        "def main_page():\r\n",
        "  choice = int(input(\"Enter your choice: \"))\r\n",
        "  if choice == 1:\r\n",
        "    show_your_registerd_course()\r\n",
        "  elif choice == 2:\r\n",
        "    name = input(\"Enter course name: \")\r\n",
        "    code = input(\"Enter course code: \")\r\n",
        "    add_course(code, name)\r\n",
        "  elif choice == 3:\r\n",
        "    index = int(input(\"Enter course id: \"))\r\n",
        "    remove_course(index-1)\r\n",
        "  else:\r\n",
        "    print(\"Please insert a valid Input.\")\r\n",
        "    main_page()\r\n",
        "main_page()"
      ],
      "execution_count": null,
      "outputs": [
        {
          "output_type": "stream",
          "text": [
            "Enter your choice: 2\n",
            "Enter course name: Simulation\n",
            "Enter course code: CSE414\n",
            "\n",
            "\n",
            "ID ---  Course Name --- Course Code\n",
            "1 --- Simulation --- CSE414\n"
          ],
          "name": "stdout"
        }
      ]
    }
  ]
}